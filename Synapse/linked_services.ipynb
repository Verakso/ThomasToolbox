{
 "cells": [
  {
   "cell_type": "markdown",
   "metadata": {},
   "source": [
    "# Get Linked_Services"
   ]
  },
  {
   "cell_type": "markdown",
   "metadata": {},
   "source": [
    "First, lets make sure we have the needed libraries installed, that is needed to run this notebook"
   ]
  },
  {
   "cell_type": "code",
   "execution_count": null,
   "metadata": {},
   "outputs": [],
   "source": [
    "#%pip install azure-identity azure-synapse-artifacts azure-mgmt-synapse"
   ]
  },
  {
   "cell_type": "markdown",
   "metadata": {},
   "source": [
    "The script above, only need to run the first time, then the modules are dowloaded and installed.\n",
    "\n",
    "But we need to define, which environment, we would like to run on:"
   ]
  },
  {
   "cell_type": "code",
   "execution_count": null,
   "metadata": {},
   "outputs": [],
   "source": [
    "# Only one of thees can be active at a time\n",
    "# environment = 'dev'\n",
    "# environment = 'test'\n",
    "environment = 'prod'"
   ]
  },
  {
   "cell_type": "markdown",
   "metadata": {},
   "source": [
    "First lets get a token we can use"
   ]
  },
  {
   "cell_type": "code",
   "execution_count": null,
   "metadata": {},
   "outputs": [],
   "source": [
    "from azure.identity import InteractiveBrowserCredential\n",
    "from azure.synapse.artifacts import ArtifactsClient\n",
    "import os\n",
    "\n",
    "# Indsæt din Synapse Analytics workspace URL\n",
    "workspace_url = f\"https://synw-insight-{environment}.dev.azuresynapse.net\"\n",
    "\n",
    "# Opret credential ved hjælp af interaktiv login\n",
    "credential = InteractiveBrowserCredential()\n",
    "\n",
    "# Opret en ArtifactsClient\n",
    "client = ArtifactsClient(endpoint=workspace_url, credential=credential)\n",
    "\n",
    "# Eksempel på at få en bearer token\n",
    "token = credential.get_token(\"https://dev.azuresynapse.net/.default\")\n",
    "print(\"Bearer token:\", token.token)"
   ]
  },
  {
   "cell_type": "markdown",
   "metadata": {},
   "source": [
    "Then use this token to get the Linked Services"
   ]
  },
  {
   "cell_type": "code",
   "execution_count": null,
   "metadata": {},
   "outputs": [],
   "source": [
    "import requests\n",
    "import json\n",
    "\n",
    "def fetch_all_linked_services(endpoint, access_token):\n",
    "    linked_services = []\n",
    "    url = f\"{endpoint}/linkedservices?api-version=2020-12-01\"\n",
    "    headers = {\n",
    "        'Authorization': f'Bearer {access_token}'\n",
    "    }\n",
    "    \n",
    "    while url:\n",
    "        response = requests.get(url, headers=headers)\n",
    "        data = response.json()\n",
    "        linked_services.extend(data.get('value', []))\n",
    "        url = data.get('nextLink')\n",
    "    \n",
    "    return linked_services\n",
    "\n",
    "# Usage\n",
    "endpoint = workspace_url  # 'https://synw-insight-prod.dev.azuresynapse.net'\n",
    "access_token = token.token # Indsæt din aktuelle adgangstoken her\n",
    "linked_services = fetch_all_linked_services(endpoint, access_token)\n",
    "\n",
    "# Check if the directory exists, if not, create it\n",
    "directory = './data/linked_services'\n",
    "if not os.path.exists(directory):\n",
    "    os.makedirs(directory)\n",
    "\n",
    "# Save the linked services to a JSON file\n",
    "with open(f'{directory}/linked_services_{environment}.json', 'w', encoding='utf-8') as f:\n",
    "    json.dump(linked_services, f, indent=4)\n",
    "\n",
    "print(f\"Linked Services have been saved to linked_services_{environment}.json\")\n"
   ]
  },
  {
   "cell_type": "code",
   "execution_count": null,
   "metadata": {},
   "outputs": [],
   "source": [
    "# Normalize the data\n",
    "normalized_ls_data = []\n",
    "\n",
    "for linked_service in linked_services:\n",
    "    # Opret en dictionary for hver linked service\n",
    "    linked_service_info = {\n",
    "        'name': linked_service.get('name'),\n",
    "        'id': linked_service.get('id'),\n",
    "        'type': linked_service.get('properties', {}).get('type'),  # Hent typen fra properties\n",
    "        'url': linked_service.get('properties', {}).get('typeProperties', {}).get('url'),  # Hent url, hvis det er en del af typeProperties\n",
    "        'connectionString': linked_service.get('properties', {}).get('typeProperties', {}).get('connectionString'),  # Hent connectionString, hvis det eksisterer\n",
    "        'baseUrl': linked_service.get('properties', {}).get('typeProperties', {}).get('baseUrl'),  # Hent baseUrl, hvis det eksisterer\n",
    "    }\n",
    "    \n",
    "    normalized_ls_data.append(linked_service_info)\n",
    "\n",
    "print(json.dumps(normalized_ls_data, indent=4))  # Print de normaliserede data i et pænt JSON-format\n",
    "\n",
    "# Save the normalized data to a JSON file\n",
    "with open(f'./data/linked_services/normalized_linked_services_{environment}.json', 'w') as f:\n",
    "    json.dump(normalized_ls_data, f, indent=4)\n",
    "\n",
    "print(f\"Normalized data has been saved to normalized_linked_services_{environment}.json\")\n"
   ]
  },
  {
   "cell_type": "markdown",
   "metadata": {},
   "source": [
    "Nu kan vi så teste (simpelt), om vi skulle have nogle \"forkerte\" linked services i vores pågældende miljø"
   ]
  },
  {
   "cell_type": "code",
   "execution_count": null,
   "metadata": {},
   "outputs": [],
   "source": [
    "# Bestem ikke-tilladte substrings baseret på det aktive miljø\n",
    "disallowed_substrings = []\n",
    "if environment == 'dev':\n",
    "    disallowed_substrings = ['-test', '-prod']\n",
    "elif environment == 'test':\n",
    "    disallowed_substrings = ['-dev', '-prod']\n",
    "elif environment == 'prod':\n",
    "    disallowed_substrings = ['-dev', '-test']\n",
    "\n",
    "# Iterer gennem normaliseret liste over linked services\n",
    "for service in normalized_ls_data:\n",
    "    name = service.get('name', '')\n",
    "    id_ = service.get('id', '')\n",
    "    connection_string = service.get('connectionString', '')\n",
    "\n",
    "    # Sørg for, at connection_string er en streng, før du udfører tjek\n",
    "    if connection_string is None:\n",
    "        connection_string = ''\n",
    "\n",
    "    # Tjek for uønskede substrings i felterne\n",
    "    if any(substring in name for substring in disallowed_substrings) or \\\n",
    "       any(substring in id_ for substring in disallowed_substrings) or \\\n",
    "       any(substring in connection_string for substring in disallowed_substrings):\n",
    "        print(f\"Fejl i service '{name}' med id '{id_}': indeholder disallowed substrings.\")\n",
    "    # Jeg er lidt ligeglad med dem der er \"korrekte\"\n",
    "    # else:\n",
    "    #     print(f\"Service '{name}' er korrekt konfigureret for miljø '{environment}'.\")\n"
   ]
  }
 ],
 "metadata": {
  "kernelspec": {
   "display_name": ".venv",
   "language": "python",
   "name": "python3"
  },
  "language_info": {
   "codemirror_mode": {
    "name": "ipython",
    "version": 3
   },
   "file_extension": ".py",
   "mimetype": "text/x-python",
   "name": "python",
   "nbconvert_exporter": "python",
   "pygments_lexer": "ipython3",
   "version": "3.9.13"
  }
 },
 "nbformat": 4,
 "nbformat_minor": 2
}
