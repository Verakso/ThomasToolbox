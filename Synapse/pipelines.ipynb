{
 "cells": [
  {
   "cell_type": "markdown",
   "metadata": {},
   "source": [
    "# Get Pipelines"
   ]
  },
  {
   "cell_type": "markdown",
   "metadata": {},
   "source": [
    "First, lets make sure we have the needed libraries installed, that is needed to run this notebook"
   ]
  },
  {
   "cell_type": "code",
   "execution_count": null,
   "metadata": {},
   "outputs": [],
   "source": [
    "#%pip install azure-identity azure-synapse-artifacts azure-mgmt-synapse"
   ]
  },
  {
   "cell_type": "markdown",
   "metadata": {},
   "source": [
    "The script above, only need to run the first time, then the modules are dowloaded and installed.\n",
    "\n",
    "But we need to define, which environment, we would like to run on:"
   ]
  },
  {
   "cell_type": "code",
   "execution_count": null,
   "metadata": {},
   "outputs": [],
   "source": [
    "# Only one of thees can be active at a time\n",
    "# environment = 'dev'\n",
    "# environment = 'test'\n",
    "environment = 'prod'"
   ]
  },
  {
   "cell_type": "markdown",
   "metadata": {},
   "source": [
    "First lets get a token we can use"
   ]
  },
  {
   "cell_type": "code",
   "execution_count": null,
   "metadata": {},
   "outputs": [],
   "source": [
    "from azure.identity import InteractiveBrowserCredential\n",
    "from azure.synapse.artifacts import ArtifactsClient\n",
    "import os\n",
    "\n",
    "# Indsæt din Synapse Analytics workspace URL\n",
    "workspace_url = f\"https://synw-insight-{environment}.dev.azuresynapse.net\"\n",
    "\n",
    "# Opret credential ved hjælp af interaktiv login\n",
    "credential = InteractiveBrowserCredential()\n",
    "\n",
    "# Opret en ArtifactsClient\n",
    "client = ArtifactsClient(endpoint=workspace_url, credential=credential)\n",
    "\n",
    "# Eksempel på at få en bearer token\n",
    "token = credential.get_token(\"https://dev.azuresynapse.net/.default\")\n",
    "print(\"Bearer token:\", token.token)"
   ]
  },
  {
   "cell_type": "markdown",
   "metadata": {},
   "source": [
    "Then use this token to get the pipelines"
   ]
  },
  {
   "cell_type": "code",
   "execution_count": null,
   "metadata": {},
   "outputs": [],
   "source": [
    "import requests\n",
    "import json\n",
    "\n",
    "def fetch_all_pipelines(endpoint, token):\n",
    "    pipelines = []\n",
    "    url = f\"{endpoint}/pipelines?api-version=2020-12-01\"\n",
    "    headers = {\n",
    "        'Authorization': f'Bearer {acces_token}'\n",
    "    }\n",
    "    \n",
    "    while url:\n",
    "        response = requests.get(url, headers=headers)\n",
    "        data = response.json()\n",
    "        pipelines.extend(data.get('value', []))\n",
    "        url = data.get('nextLink')\n",
    "    \n",
    "    return pipelines\n",
    "\n",
    "# Usage\n",
    "endpoint = workspace_url  #'https://synw-insight-prod.dev.azuresynapse.net'\n",
    "acces_token = token.token #'eyJ0eXAiOiJKV1QiLCJhbGciOiJSUzI1NiIsIng1dCI6IllUY2VPNUlKeXlxUjZqekRTNWlBYnBlNDJKdyIsImtpZCI6IllUY2VPNUlKeXlxUjZqekRTNWlBYnBlNDJKdyJ9.eyJhdWQiOiJodHRwczovL2Rldi5henVyZXN5bmFwc2UubmV0LyIsImlzcyI6Imh0dHBzOi8vc3RzLndpbmRvd3MubmV0LzZlZTBkMmY1LTg5OWQtNDhjOC1iMmEzLTMzMDYxZjU2NjViYy8iLCJpYXQiOjE3MzgwNjk4NzQsIm5iZiI6MTczODA2OTg3NCwiZXhwIjoxNzM4MDczNzc0LCJhaW8iOiJrMlJnWUhEMXVTVHg0bHZuN2YxN0ZxeWRlR3BaUGdBPSIsImFwcGlkIjoiMmE1YzM5MGYtZWJmMC00YjE4LWJiZGItMWM2N2RjY2U4YzcxIiwiYXBwaWRhY3IiOiIxIiwiaWRwIjoiaHR0cHM6Ly9zdHMud2luZG93cy5uZXQvNmVlMGQyZjUtODk5ZC00OGM4LWIyYTMtMzMwNjFmNTY2NWJjLyIsImlkdHlwIjoiYXBwIiwib2lkIjoiNmUxOTA1OTMtMGQyNi00MzA3LTk2YjMtYWQ2Nzg3NmQxZWYzIiwicmgiOiIxLkFTQUE5ZExnYnAySnlFaXlvek1HSDFabHZINWN3QnJTRWdWR3Y1MVVuWEJCeHJQa0FBQWdBQS4iLCJzdWIiOiI2ZTE5MDU5My0wZDI2LTQzMDctOTZiMy1hZDY3ODc2ZDFlZjMiLCJ0aWQiOiI2ZWUwZDJmNS04OTlkLTQ4YzgtYjJhMy0zMzA2MWY1NjY1YmMiLCJ1dGkiOiJjSXF2dS12RFNFNnhKcmxBNjRlU0FBIiwidmVyIjoiMS4wIiwieG1zX2lkcmVsIjoiNyAxMCJ9.dLuNiqseXyjBPlAcRrCFaaK2HDa-tDEE0HcNUA4PGlpQYCWI_XS2bZKz2C8p9Yc5zpULgMANKctttg-W1LDNDkqhB9Z0lAdpAW6clwf3ZBXst7aahjAXimZrYnl4ifdawxF2AxAQaInI2XGBjsAudBQYWqF9Q6rVCPWBpCIWX6IX5XAWM-6oTWQFsyEVrmo7cdowpG6gYznA6gXa5duk9lo7qvZ8zP2sPgV5XMfz1UUq5czqj0vDEpQMLKmrD98gjTFEu85BS7carwJapVwKz1tpVazNsJvmS9BkxlR1h0kpy3fx7yiGwhJaMhVmX3Qbqt43HBoWl9lWjTOcuafG0Q'\n",
    "pipelines = fetch_all_pipelines(endpoint, token)\n",
    "\n",
    "# Check if the directory exists, if not, create it\n",
    "directory = './data/pipelines'\n",
    "if not os.path.exists(directory):\n",
    "    os.makedirs(directory)\n",
    "\n",
    "# Save the pipelines to a JSON file\n",
    "with open(f'{directory}/pipelines_{environment}.json', 'w', encoding='utf-8') as f:\n",
    "    json.dump(pipelines, f, indent=4)\n",
    "\n",
    "print(f\"Pipelines have been saved to pipelines_{environment}.json\")"
   ]
  },
  {
   "cell_type": "markdown",
   "metadata": {},
   "source": [
    "The we pick out some of the elements in the `pipelines.json` file and normalize it and saves it again"
   ]
  },
  {
   "cell_type": "code",
   "execution_count": null,
   "metadata": {},
   "outputs": [],
   "source": [
    "#import json\n",
    "\n",
    "# Load the JSON data from the file\n",
    "# with open('pipelines.json', 'r') as f:\n",
    "#     pipelines = json.load(f)\n",
    "\n",
    "# Normalize the data\n",
    "normalized_data = []\n",
    "for pipeline in pipelines:\n",
    "    pipeline_info = {\n",
    "        'name': pipeline.get('name'),\n",
    "        'policy': None,\n",
    "        'lastPublishTime': pipeline.get('properties', {}).get('lastPublishTime'),\n",
    "        'state': None,\n",
    "        'inactive_objects': []\n",
    "    }\n",
    "    \n",
    "    # Check if any part of the pipeline has 'state' = 'Inactive' and get the 'timeout'\n",
    "    for activity in pipeline.get('properties', {}).get('activities', []):\n",
    "        if activity.get('state') == 'Inactive':\n",
    "            pipeline_info['state'] = 'Inactive'\n",
    "            pipeline_info['inactive_objects'].append({\n",
    "                'name': activity.get('name'),\n",
    "                'description': activity.get('description', '')\n",
    "            })\n",
    "        if 'policy' in activity and 'timeout' in activity['policy']:\n",
    "            pipeline_info['policy'] = activity['policy']['timeout']\n",
    "    \n",
    "    normalized_data.append(pipeline_info)\n",
    "\n",
    "# Save the normalized data to a JSON file\n",
    "with open(f'./data/pipelines/normalized_pipelines_{environment}.json', 'w') as f:\n",
    "    json.dump(normalized_data, f, indent=4)\n",
    "\n",
    "print(f\"Normalized data has been saved to normalized_pipelines_{environment}.json\")"
   ]
  },
  {
   "cell_type": "markdown",
   "metadata": {},
   "source": [
    "Then we filter on the `normalized_pipelines.json` file to only see the piplelines where something is \"disabled\""
   ]
  },
  {
   "cell_type": "code",
   "execution_count": null,
   "metadata": {},
   "outputs": [],
   "source": [
    "# import json\n",
    "\n",
    "# Load the normalized JSON data from the file\n",
    "# with open('normalized_pipelines.json', 'r') as f:\n",
    "#     normalized_data = json.load(f)\n",
    "\n",
    "# Filter the data to only include items where state is 'Inactive'\n",
    "inactive_pipelines = [pipeline for pipeline in normalized_data if pipeline['state'] == 'Inactive']\n",
    "\n",
    "# Print the filtered data in a table format\n",
    "for pipeline in inactive_pipelines:\n",
    "    print(f\"Name: {pipeline['name']}\")\n",
    "    print(f\"Last Publish Time: {pipeline['lastPublishTime']}\")\n",
    "    print(f\"Policy Timeout: {pipeline['policy']}\")\n",
    "    for obj in pipeline['inactive_objects']:\n",
    "        print(f\"  - Name: {obj['name']}, Description: {obj['description']}\")\n",
    "    print(\"-\" * 40)\n",
    "\n",
    "#Save the filtered data to a new JSON file\n",
    "with open(f'./data/pipelines/inactive_pipelines_{environment}.json', 'w') as f:\n",
    "    json.dump(inactive_pipelines, f, indent=4)\n",
    "\n",
    "print(f\"Filtered data has been saved to inactive_pipelines_{environment}.json\")"
   ]
  }
 ],
 "metadata": {
  "kernelspec": {
   "display_name": ".venv",
   "language": "python",
   "name": "python3"
  },
  "language_info": {
   "codemirror_mode": {
    "name": "ipython",
    "version": 3
   },
   "file_extension": ".py",
   "mimetype": "text/x-python",
   "name": "python",
   "nbconvert_exporter": "python",
   "pygments_lexer": "ipython3",
   "version": "3.9.13"
  }
 },
 "nbformat": 4,
 "nbformat_minor": 2
}
