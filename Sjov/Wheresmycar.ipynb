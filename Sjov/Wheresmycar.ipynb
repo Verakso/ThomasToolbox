{
 "cells": [
  {
   "cell_type": "markdown",
   "metadata": {},
   "source": [
    "# Dude where's my car"
   ]
  },
  {
   "cell_type": "markdown",
   "metadata": {},
   "source": [
    "![alt Dude where's my car](https://64.media.tumblr.com/tumblr_lq1wrnrALQ1r1uduuo1_500.gif))"
   ]
  },
  {
   "attachments": {
    "id4.png": {
     "image/jpg": "[encoded data removed]"
    }
   },
   "cell_type": "markdown",
   "metadata": {},
   "source": [
    "So I had to return my nice company car, a Volkswagen ID.4\n",
    "\n",
    "![My Car](attachment:id4.png)\n",
    "\n",
    "Now I have switched to a new position, and therefore I have to depart with this really nice car.\n",
    "\n",
    "I know, that all (or most) of the used company cares are sold through [Semler Mobility](https://www.semlermobility.dk/), so I was wondering, when my car is up for sale. To find out, let's dig down in some of the API's behind, and use Python to keep a track on, when my particular car, might turn up on the sales listing, so let's get started"
   ]
  },
  {
   "cell_type": "markdown",
   "metadata": {},
   "source": [
    "## Import the needed libraries\n",
    "In this scenario I have choosen to use `httpx` library as well as `Pandas Dataframe`\n"
   ]
  },
  {
   "cell_type": "code",
   "execution_count": null,
   "metadata": {},
   "outputs": [],
   "source": [
    "import httpx\n",
    "import json\n",
    "import pandas as pd\n",
    "\n",
    "# Next make a definition to loop and fecth the data\n",
    "def fetch_data(skip, page_size):\n",
    "    url = \"https://www.semlermobility.dk/umbraco/api/ProductSearchApi/Search\"\n",
    "    params = {\n",
    "        \"nodeId\": 1248,\n",
    "        \"sortBy\": \"popularity\",\n",
    "        \"skip\": skip,\n",
    "        \"pageSize\": page_size,\n",
    "        \"culture\": \"da-DK\",\n",
    "        \"brands\": \"volkswagen\",\n",
    "        \"models\": \"ID.4\",\n",
    "        \"searchLocation\": \"Vehicles Page\"\n",
    "    }\n",
    "    #print(f\"Fetching data from: {url} with params: {params}\")\n",
    "    response = httpx.get(url, params=params)\n",
    "    data = response.json()\n",
    "    #print(f\"Data fetched for skip={skip}\")\n",
    "    return data\n",
    "\n",
    "# Initialize variables\n",
    "all_results = []\n",
    "page_size = 100\n",
    "skip = 0\n",
    "\n",
    "# Fetch the first page to get the total number of results\n",
    "data = fetch_data(skip, page_size)\n",
    "total_results = data[\"totalResults\"]\n",
    "print(f\"Total results: {total_results}\")\n",
    "\n",
    "# Loop to fetch all pages\n",
    "while skip < total_results:\n",
    "    data = fetch_data(skip, page_size)\n",
    "    all_results.extend(data[\"results\"])\n",
    "    skip += page_size\n",
    "    #print(f\"Processed {skip} results\")\n",
    "\n",
    "# Load all results into a pandas DataFrame\n",
    "df = pd.DataFrame(all_results)\n",
    "\n",
    "# Columns to remove\n",
    "columns_to_remove = ['imageUrl', 'hasImageUrl', 'isSlide', 'brandAlias', 'brandLogoUrl', 'isCommercial', 'registrationDate', 'secondaryDealerKey', 'hasBrandLogoUrl', 'hasClockedKilometers', 'hasModelYear', 'hasSegment', 'hasRegistration']\n",
    "\n",
    "# Remove the specified columns\n",
    "df = df.drop(columns=columns_to_remove)\n",
    "\n",
    "# Display the DataFrame\n",
    "#print(\"Final DataFrame:\")\n",
    "#print(df)\n",
    "\n",
    "# Define the specific VIN number you are looking for\n",
    "specific_vin = \"WVGZZZE26RE026755\"\n",
    "\n",
    "# Search for the specific VIN in the DataFrame\n",
    "result = df.loc[df['vin'] == specific_vin]\n",
    "\n",
    "# Display the result\n",
    "if not result.empty:\n",
    "    print(f\"Dude, I found your car: {result['url'].iloc[0]}\")\n",
    "else:\n",
    "    print(f\"Did not find your car among the {total_results} VW ID.4 cars currently for sale...\")      \n",
    "\n"
   ]
  }
 ],
 "metadata": {
  "kernelspec": {
   "display_name": ".venv",
   "language": "python",
   "name": "python3"
  },
  "language_info": {
   "codemirror_mode": {
    "name": "ipython",
    "version": 3
   },
   "file_extension": ".py",
   "mimetype": "text/x-python",
   "name": "python",
   "nbconvert_exporter": "python",
   "pygments_lexer": "ipython3",
   "version": "3.9.13"
  }
 },
 "nbformat": 4,
 "nbformat_minor": 2
}
